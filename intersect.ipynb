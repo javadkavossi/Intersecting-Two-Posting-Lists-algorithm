{
 "cells": [
  {
   "cell_type": "code",
   "execution_count": 7,
   "id": "2681afaf",
   "metadata": {},
   "outputs": [
    {
     "name": "stdout",
     "output_type": "stream",
     "text": [
      "اسناد مشترک بین فایل 1 و فایل 2: []\n"
     ]
    }
   ],
   "source": [
    "def extract_words_from_file(file_path):\n",
    "    with open(file_path, 'r', encoding='utf-8') as file:\n",
    "        text = file.read()\n",
    "        words = text.split()\n",
    "        return words\n",
    "\n",
    "def create_word_dictionary(file1_words, file2_words):\n",
    "    word_dictionary = {}\n",
    "    \n",
    "    for word in file1_words:\n",
    "        if word in word_dictionary:\n",
    "            word_dictionary[word].append(\"file1.txt\")\n",
    "        else:\n",
    "            word_dictionary[word] = [\"file1.txt\"]\n",
    "    \n",
    "    for word in file2_words:\n",
    "        if word in word_dictionary:\n",
    "            word_dictionary[word].append(\"file2.txt\")\n",
    "        else:\n",
    "            word_dictionary[word] = [\"file2.txt\"]\n",
    "    \n",
    "    return word_dictionary\n",
    "\n",
    "def intersect_posting_lists(list1, list2):\n",
    "    result = []\n",
    "    i = 0\n",
    "    j = 0\n",
    "\n",
    "    while i < len(list1) and j < len(list2):\n",
    "        if list1[i] == list2[j]:\n",
    "            result.append(list1[i])\n",
    "            i += 1\n",
    "            j += 1\n",
    "        elif list1[i] < list2[j]:\n",
    "            i += 1\n",
    "        else:\n",
    "            j += 1\n",
    "\n",
    "    return result\n",
    "\n",
    "file1_path = \"file1.txt\"\n",
    "file2_path = \"file2.txt\"\n",
    "\n",
    "file1_words = extract_words_from_file(file1_path)\n",
    "file2_words = extract_words_from_file(file2_path)\n",
    "\n",
    "word_set_file1 = set(file1_words)\n",
    "word_set_file2 = set(file2_words)\n",
    "\n",
    "common_words = word_set_file1.intersection(word_set_file2)\n",
    "\n",
    "print(\"کلمات مشترک بین فایل 1 و فایل 2:\", common_words)\n",
    "\n",
    "\n",
    "\n"
   ]
  },
  {
   "cell_type": "code",
   "execution_count": null,
   "id": "6e017745",
   "metadata": {},
   "outputs": [],
   "source": []
  },
  {
   "cell_type": "code",
   "execution_count": null,
   "id": "0d08a431",
   "metadata": {},
   "outputs": [],
   "source": []
  },
  {
   "cell_type": "code",
   "execution_count": null,
   "id": "ccf1583e",
   "metadata": {},
   "outputs": [],
   "source": []
  },
  {
   "cell_type": "code",
   "execution_count": null,
   "id": "dc4978ab",
   "metadata": {},
   "outputs": [],
   "source": []
  },
  {
   "cell_type": "code",
   "execution_count": null,
   "id": "4b0536c7",
   "metadata": {},
   "outputs": [],
   "source": []
  },
  {
   "cell_type": "code",
   "execution_count": null,
   "id": "9fded0b4",
   "metadata": {},
   "outputs": [],
   "source": []
  },
  {
   "cell_type": "code",
   "execution_count": null,
   "id": "8207175e",
   "metadata": {},
   "outputs": [],
   "source": []
  },
  {
   "cell_type": "code",
   "execution_count": null,
   "id": "b483d5bb",
   "metadata": {},
   "outputs": [],
   "source": []
  }
 ],
 "metadata": {
  "kernelspec": {
   "display_name": "Python 3 (ipykernel)",
   "language": "python",
   "name": "python3"
  },
  "language_info": {
   "codemirror_mode": {
    "name": "ipython",
    "version": 3
   },
   "file_extension": ".py",
   "mimetype": "text/x-python",
   "name": "python",
   "nbconvert_exporter": "python",
   "pygments_lexer": "ipython3",
   "version": "3.10.9"
  }
 },
 "nbformat": 4,
 "nbformat_minor": 5
}
